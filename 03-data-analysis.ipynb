{
 "cells": [
  {
   "cell_type": "code",
   "execution_count": 1,
   "metadata": {},
   "outputs": [],
   "source": [
    "import pandas as pd\n",
    "import numpy as np"
   ]
  },
  {
   "cell_type": "code",
   "execution_count": 2,
   "metadata": {},
   "outputs": [],
   "source": [
    "import pymongo\n",
    "from pymongo import MongoClient\n",
    "client = MongoClient()\n",
    "client.CPS.list_collection_names()\n",
    "CPS = client.CPS"
   ]
  },
  {
   "cell_type": "markdown",
   "metadata": {},
   "source": [
    "## 01. Retrieve data from mongodb"
   ]
  },
  {
   "cell_type": "code",
   "execution_count": 3,
   "metadata": {},
   "outputs": [
    {
     "data": {
      "text/plain": [
       "['PWSSWGT', 'PEEDUCA', 'PREMPNOT', 'PESEX', 'PWCMPWGT', 'PTDTRACE']"
      ]
     },
     "execution_count": 3,
     "metadata": {},
     "output_type": "execute_result"
    }
   ],
   "source": [
    "CPS.list_collection_names()"
   ]
  },
  {
   "cell_type": "code",
   "execution_count": 4,
   "metadata": {},
   "outputs": [],
   "source": [
    "PEEDUCA = CPS.PEEDUCA.find_one()\n",
    "PREMPNOT = CPS.PREMPNOT.find_one()\n",
    "PESEX = CPS.PESEX.find_one()\n",
    "PTDTRACE = CPS.PTDTRACE.find_one()\n",
    "PWSSWGT = CPS.PWSSWGT.find_one()\n",
    "PWCMPWGT = CPS.PWCMPWGT.find_one()"
   ]
  },
  {
   "cell_type": "code",
   "execution_count": 5,
   "metadata": {},
   "outputs": [],
   "source": [
    "months = ['jan', 'feb', 'mar', 'apr']\n",
    "df = pd.DataFrame(columns = ['month', 'weight_cf', 'weight', 'emp', 'sex', 'race', 'educa'])\n",
    "for mon in months:\n",
    "    temp_df = pd.DataFrame({\n",
    "        'month': mon,\n",
    "        'weight_cf': PWCMPWGT[mon],\n",
    "        'weight': PWSSWGT[mon],\n",
    "        'emp': PREMPNOT[mon],\n",
    "        'sex': PESEX[mon],\n",
    "        'race': PTDTRACE[mon],\n",
    "        'educa': PEEDUCA[mon]\n",
    "    })\n",
    "    df = df.append(temp_df)"
   ]
  },
  {
   "cell_type": "code",
   "execution_count": 6,
   "metadata": {},
   "outputs": [],
   "source": [
    "df[\"weight\"] = pd.to_numeric(df[\"weight\"])\n",
    "df[\"weight_cf\"] = pd.to_numeric(df[\"weight_cf\"])\n",
    "df = df.loc[df['weight_cf']>0]"
   ]
  },
  {
   "cell_type": "markdown",
   "metadata": {},
   "source": [
    "## 02. Calculate non-seasonally adjusted unemployment rate"
   ]
  },
  {
   "cell_type": "markdown",
   "metadata": {},
   "source": [
    "Here is how the weights should work: for example, if a person has a weight of 1,500 then the household is theoretically representing 1,500 other persons. \n",
    "\n",
    "In practice, the weights are scaled up by 10000.\n",
    "\n",
    "I scale it down and convert units to thousands."
   ]
  },
  {
   "cell_type": "code",
   "execution_count": 28,
   "metadata": {},
   "outputs": [],
   "source": [
    "from time import strptime\n",
    "\n",
    "df['month_num'] = [strptime(mon,'%b').tm_mon for mon in df['month']]"
   ]
  },
  {
   "cell_type": "code",
   "execution_count": 29,
   "metadata": {
    "scrolled": true
   },
   "outputs": [
    {
     "data": {
      "text/html": [
       "<div>\n",
       "<style scoped>\n",
       "    .dataframe tbody tr th:only-of-type {\n",
       "        vertical-align: middle;\n",
       "    }\n",
       "\n",
       "    .dataframe tbody tr th {\n",
       "        vertical-align: top;\n",
       "    }\n",
       "\n",
       "    .dataframe thead th {\n",
       "        text-align: right;\n",
       "    }\n",
       "</style>\n",
       "<table border=\"1\" class=\"dataframe\">\n",
       "  <thead>\n",
       "    <tr style=\"text-align: right;\">\n",
       "      <th></th>\n",
       "      <th>month</th>\n",
       "      <th>weight_cf</th>\n",
       "      <th>weight</th>\n",
       "      <th>emp</th>\n",
       "      <th>sex</th>\n",
       "      <th>race</th>\n",
       "      <th>educa</th>\n",
       "      <th>month_num</th>\n",
       "    </tr>\n",
       "  </thead>\n",
       "  <tbody>\n",
       "    <tr>\n",
       "      <td>0</td>\n",
       "      <td>jan</td>\n",
       "      <td>17347552</td>\n",
       "      <td>17713809</td>\n",
       "      <td>4</td>\n",
       "      <td>1</td>\n",
       "      <td>2</td>\n",
       "      <td>38</td>\n",
       "      <td>1</td>\n",
       "    </tr>\n",
       "    <tr>\n",
       "      <td>1</td>\n",
       "      <td>jan</td>\n",
       "      <td>16756084</td>\n",
       "      <td>16864805</td>\n",
       "      <td>4</td>\n",
       "      <td>2</td>\n",
       "      <td>2</td>\n",
       "      <td>40</td>\n",
       "      <td>1</td>\n",
       "    </tr>\n",
       "    <tr>\n",
       "      <td>2</td>\n",
       "      <td>jan</td>\n",
       "      <td>21463402</td>\n",
       "      <td>20481802</td>\n",
       "      <td>4</td>\n",
       "      <td>1</td>\n",
       "      <td>1</td>\n",
       "      <td>40</td>\n",
       "      <td>1</td>\n",
       "    </tr>\n",
       "    <tr>\n",
       "      <td>3</td>\n",
       "      <td>jan</td>\n",
       "      <td>30966041</td>\n",
       "      <td>30137016</td>\n",
       "      <td>1</td>\n",
       "      <td>1</td>\n",
       "      <td>1</td>\n",
       "      <td>39</td>\n",
       "      <td>1</td>\n",
       "    </tr>\n",
       "    <tr>\n",
       "      <td>4</td>\n",
       "      <td>jan</td>\n",
       "      <td>17590812</td>\n",
       "      <td>17309391</td>\n",
       "      <td>1</td>\n",
       "      <td>2</td>\n",
       "      <td>1</td>\n",
       "      <td>43</td>\n",
       "      <td>1</td>\n",
       "    </tr>\n",
       "    <tr>\n",
       "      <td>5</td>\n",
       "      <td>jan</td>\n",
       "      <td>22252360</td>\n",
       "      <td>21931976</td>\n",
       "      <td>1</td>\n",
       "      <td>1</td>\n",
       "      <td>2</td>\n",
       "      <td>39</td>\n",
       "      <td>1</td>\n",
       "    </tr>\n",
       "    <tr>\n",
       "      <td>6</td>\n",
       "      <td>jan</td>\n",
       "      <td>20126642</td>\n",
       "      <td>19718618</td>\n",
       "      <td>1</td>\n",
       "      <td>2</td>\n",
       "      <td>2</td>\n",
       "      <td>39</td>\n",
       "      <td>1</td>\n",
       "    </tr>\n",
       "    <tr>\n",
       "      <td>8</td>\n",
       "      <td>jan</td>\n",
       "      <td>22147484</td>\n",
       "      <td>22450914</td>\n",
       "      <td>4</td>\n",
       "      <td>2</td>\n",
       "      <td>1</td>\n",
       "      <td>39</td>\n",
       "      <td>1</td>\n",
       "    </tr>\n",
       "    <tr>\n",
       "      <td>9</td>\n",
       "      <td>jan</td>\n",
       "      <td>28851877</td>\n",
       "      <td>33004731</td>\n",
       "      <td>4</td>\n",
       "      <td>2</td>\n",
       "      <td>2</td>\n",
       "      <td>39</td>\n",
       "      <td>1</td>\n",
       "    </tr>\n",
       "    <tr>\n",
       "      <td>10</td>\n",
       "      <td>jan</td>\n",
       "      <td>17379723</td>\n",
       "      <td>17492490</td>\n",
       "      <td>4</td>\n",
       "      <td>2</td>\n",
       "      <td>2</td>\n",
       "      <td>39</td>\n",
       "      <td>1</td>\n",
       "    </tr>\n",
       "    <tr>\n",
       "      <td>12</td>\n",
       "      <td>jan</td>\n",
       "      <td>24567737</td>\n",
       "      <td>25730276</td>\n",
       "      <td>4</td>\n",
       "      <td>2</td>\n",
       "      <td>2</td>\n",
       "      <td>39</td>\n",
       "      <td>1</td>\n",
       "    </tr>\n",
       "    <tr>\n",
       "      <td>14</td>\n",
       "      <td>jan</td>\n",
       "      <td>21236523</td>\n",
       "      <td>22493557</td>\n",
       "      <td>4</td>\n",
       "      <td>2</td>\n",
       "      <td>2</td>\n",
       "      <td>39</td>\n",
       "      <td>1</td>\n",
       "    </tr>\n",
       "    <tr>\n",
       "      <td>16</td>\n",
       "      <td>jan</td>\n",
       "      <td>24876545</td>\n",
       "      <td>24209309</td>\n",
       "      <td>1</td>\n",
       "      <td>2</td>\n",
       "      <td>2</td>\n",
       "      <td>40</td>\n",
       "      <td>1</td>\n",
       "    </tr>\n",
       "    <tr>\n",
       "      <td>17</td>\n",
       "      <td>jan</td>\n",
       "      <td>16576638</td>\n",
       "      <td>16283905</td>\n",
       "      <td>1</td>\n",
       "      <td>2</td>\n",
       "      <td>1</td>\n",
       "      <td>41</td>\n",
       "      <td>1</td>\n",
       "    </tr>\n",
       "    <tr>\n",
       "      <td>18</td>\n",
       "      <td>jan</td>\n",
       "      <td>16461422</td>\n",
       "      <td>16786000</td>\n",
       "      <td>4</td>\n",
       "      <td>2</td>\n",
       "      <td>1</td>\n",
       "      <td>39</td>\n",
       "      <td>1</td>\n",
       "    </tr>\n",
       "  </tbody>\n",
       "</table>\n",
       "</div>"
      ],
      "text/plain": [
       "   month  weight_cf    weight emp sex race educa  month_num\n",
       "0    jan   17347552  17713809   4   1    2    38          1\n",
       "1    jan   16756084  16864805   4   2    2    40          1\n",
       "2    jan   21463402  20481802   4   1    1    40          1\n",
       "3    jan   30966041  30137016   1   1    1    39          1\n",
       "4    jan   17590812  17309391   1   2    1    43          1\n",
       "5    jan   22252360  21931976   1   1    2    39          1\n",
       "6    jan   20126642  19718618   1   2    2    39          1\n",
       "8    jan   22147484  22450914   4   2    1    39          1\n",
       "9    jan   28851877  33004731   4   2    2    39          1\n",
       "10   jan   17379723  17492490   4   2    2    39          1\n",
       "12   jan   24567737  25730276   4   2    2    39          1\n",
       "14   jan   21236523  22493557   4   2    2    39          1\n",
       "16   jan   24876545  24209309   1   2    2    40          1\n",
       "17   jan   16576638  16283905   1   2    1    41          1\n",
       "18   jan   16461422  16786000   4   2    1    39          1"
      ]
     },
     "execution_count": 29,
     "metadata": {},
     "output_type": "execute_result"
    }
   ],
   "source": [
    "df.head(15)"
   ]
  },
  {
   "cell_type": "markdown",
   "metadata": {},
   "source": [
    "http://www.dlt.ri.gov/lmi/laus/us/usunadj.htm\n",
    "\n",
    "These are the non-seasonally adjusted unemployment rates"
   ]
  },
  {
   "cell_type": "code",
   "execution_count": 8,
   "metadata": {},
   "outputs": [],
   "source": [
    "pd.options.display.float_format = '{:.5f}'.format"
   ]
  },
  {
   "cell_type": "code",
   "execution_count": 61,
   "metadata": {
    "scrolled": true
   },
   "outputs": [],
   "source": [
    "def calc_unemployment(df):\n",
    "    emp = df.loc[df['emp']==1]\n",
    "    unemp = df.loc[df['emp']==2]\n",
    "    tot_emp = emp['weight_cf'].groupby(emp[\"month_num\"]).sum()\n",
    "    tot_unemp = unemp['weight_cf'].groupby(unemp[\"month_num\"]).sum()\n",
    "    unemployment_rate = tot_unemp * 100 / (tot_emp + tot_unemp)\n",
    "    return unemployment_rate"
   ]
  },
  {
   "cell_type": "code",
   "execution_count": 62,
   "metadata": {},
   "outputs": [
    {
     "name": "stdout",
     "output_type": "stream",
     "text": [
      "month\n",
      "apr   133325.80812\n",
      "feb   158017.40388\n",
      "jan   156993.73231\n",
      "mar   155167.19227\n",
      "Name: weight_cf, dtype: float64\n"
     ]
    }
   ],
   "source": [
    "print(tot_emp/10000000) # this matches exactly the data from DLT"
   ]
  },
  {
   "cell_type": "markdown",
   "metadata": {},
   "source": [
    "## 03. Unemployment rate per education level, race, sex\n",
    "* these are all *NON-SEASONALLY-ADJUSTED* rates"
   ]
  },
  {
   "cell_type": "markdown",
   "metadata": {},
   "source": [
    "### male and female unemployment rates"
   ]
  },
  {
   "cell_type": "code",
   "execution_count": 63,
   "metadata": {},
   "outputs": [
    {
     "data": {
      "text/plain": [
       "2    185635\n",
       "1    170627\n",
       "Name: sex, dtype: int64"
      ]
     },
     "execution_count": 63,
     "metadata": {},
     "output_type": "execute_result"
    }
   ],
   "source": [
    "df['sex'].value_counts()"
   ]
  },
  {
   "cell_type": "code",
   "execution_count": 64,
   "metadata": {},
   "outputs": [],
   "source": [
    "m = df.loc[df['sex']==1]\n",
    "f = df.loc[df['sex']==2]"
   ]
  },
  {
   "cell_type": "code",
   "execution_count": 67,
   "metadata": {},
   "outputs": [],
   "source": [
    "unemployment_gender = pd.DataFrame({\n",
    "    'm_unemp': calc_unemployment(m),\n",
    "    'f_unemp': calc_unemployment(f), \n",
    "})"
   ]
  },
  {
   "cell_type": "code",
   "execution_count": 68,
   "metadata": {},
   "outputs": [
    {
     "data": {
      "text/html": [
       "<div>\n",
       "<style scoped>\n",
       "    .dataframe tbody tr th:only-of-type {\n",
       "        vertical-align: middle;\n",
       "    }\n",
       "\n",
       "    .dataframe tbody tr th {\n",
       "        vertical-align: top;\n",
       "    }\n",
       "\n",
       "    .dataframe thead th {\n",
       "        text-align: right;\n",
       "    }\n",
       "</style>\n",
       "<table border=\"1\" class=\"dataframe\">\n",
       "  <thead>\n",
       "    <tr style=\"text-align: right;\">\n",
       "      <th></th>\n",
       "      <th>m_unemp</th>\n",
       "      <th>f_unemp</th>\n",
       "    </tr>\n",
       "    <tr>\n",
       "      <th>month_num</th>\n",
       "      <th></th>\n",
       "      <th></th>\n",
       "    </tr>\n",
       "  </thead>\n",
       "  <tbody>\n",
       "    <tr>\n",
       "      <td>1</td>\n",
       "      <td>4.20391</td>\n",
       "      <td>3.72473</td>\n",
       "    </tr>\n",
       "    <tr>\n",
       "      <td>2</td>\n",
       "      <td>4.09887</td>\n",
       "      <td>3.43667</td>\n",
       "    </tr>\n",
       "    <tr>\n",
       "      <td>3</td>\n",
       "      <td>4.79568</td>\n",
       "      <td>4.24119</td>\n",
       "    </tr>\n",
       "    <tr>\n",
       "      <td>4</td>\n",
       "      <td>13.29368</td>\n",
       "      <td>15.74342</td>\n",
       "    </tr>\n",
       "  </tbody>\n",
       "</table>\n",
       "</div>"
      ],
      "text/plain": [
       "           m_unemp  f_unemp\n",
       "month_num                  \n",
       "1          4.20391  3.72473\n",
       "2          4.09887  3.43667\n",
       "3          4.79568  4.24119\n",
       "4         13.29368 15.74342"
      ]
     },
     "execution_count": 68,
     "metadata": {},
     "output_type": "execute_result"
    }
   ],
   "source": [
    "unemployment_gender"
   ]
  },
  {
   "cell_type": "code",
   "execution_count": 70,
   "metadata": {},
   "outputs": [
    {
     "data": {
      "text/plain": [
       "<matplotlib.axes._subplots.AxesSubplot at 0x1161b1690>"
      ]
     },
     "execution_count": 70,
     "metadata": {},
     "output_type": "execute_result"
    },
    {
     "data": {
      "image/png": "[encoded data removed]",
      "text/plain": [
       "<Figure size 432x288 with 1 Axes>"
      ]
     },
     "metadata": {
      "needs_background": "light"
     },
     "output_type": "display_data"
    }
   ],
   "source": [
    "unemployment_gender.plot(xticks = unemployment_gender.index)"
   ]
  },
  {
   "cell_type": "markdown",
   "metadata": {},
   "source": [
    "### unemployment rates by education\n",
    "\n",
    "See data dictionary for code definitions"
   ]
  },
  {
   "cell_type": "code",
   "execution_count": 129,
   "metadata": {},
   "outputs": [
    {
     "data": {
      "text/plain": [
       "42276"
      ]
     },
     "execution_count": 129,
     "metadata": {},
     "output_type": "execute_result"
    }
   ],
   "source": [
    "education_levels = df['educa'].value_counts()\n",
    "education_levels = pd.DataFrame({\"n\": education_levels})\n",
    "less_than_hs = education_levels.loc[education_levels.index <= 38].sum()[0]\n",
    "less_than_hs"
   ]
  },
  {
   "cell_type": "code",
   "execution_count": 135,
   "metadata": {
    "scrolled": false
   },
   "outputs": [
    {
     "data": {
      "text/html": [
       "<div>\n",
       "<style scoped>\n",
       "    .dataframe tbody tr th:only-of-type {\n",
       "        vertical-align: middle;\n",
       "    }\n",
       "\n",
       "    .dataframe tbody tr th {\n",
       "        vertical-align: top;\n",
       "    }\n",
       "\n",
       "    .dataframe thead th {\n",
       "        text-align: right;\n",
       "    }\n",
       "</style>\n",
       "<table border=\"1\" class=\"dataframe\">\n",
       "  <thead>\n",
       "    <tr style=\"text-align: right;\">\n",
       "      <th></th>\n",
       "      <th>n</th>\n",
       "    </tr>\n",
       "  </thead>\n",
       "  <tbody>\n",
       "    <tr>\n",
       "      <td>37</td>\n",
       "      <td>42276</td>\n",
       "    </tr>\n",
       "    <tr>\n",
       "      <td>39</td>\n",
       "      <td>98417</td>\n",
       "    </tr>\n",
       "    <tr>\n",
       "      <td>40</td>\n",
       "      <td>60822</td>\n",
       "    </tr>\n",
       "    <tr>\n",
       "      <td>41</td>\n",
       "      <td>15742</td>\n",
       "    </tr>\n",
       "    <tr>\n",
       "      <td>42</td>\n",
       "      <td>20385</td>\n",
       "    </tr>\n",
       "    <tr>\n",
       "      <td>43</td>\n",
       "      <td>74769</td>\n",
       "    </tr>\n",
       "    <tr>\n",
       "      <td>44</td>\n",
       "      <td>32448</td>\n",
       "    </tr>\n",
       "    <tr>\n",
       "      <td>45</td>\n",
       "      <td>4899</td>\n",
       "    </tr>\n",
       "    <tr>\n",
       "      <td>46</td>\n",
       "      <td>6504</td>\n",
       "    </tr>\n",
       "  </tbody>\n",
       "</table>\n",
       "</div>"
      ],
      "text/plain": [
       "        n\n",
       "37  42276\n",
       "39  98417\n",
       "40  60822\n",
       "41  15742\n",
       "42  20385\n",
       "43  74769\n",
       "44  32448\n",
       "45   4899\n",
       "46   6504"
      ]
     },
     "execution_count": 135,
     "metadata": {},
     "output_type": "execute_result"
    }
   ],
   "source": [
    "education_levels = education_levels.loc[education_levels.index > 38]\n",
    "education_levels = education_levels.append(pd.DataFrame({\"n\": less_than_hs}, index=[38]))\n",
    "education_levels.sort_index(inplace = True)\n",
    "education_levels"
   ]
  },
  {
   "cell_type": "code",
   "execution_count": 138,
   "metadata": {},
   "outputs": [],
   "source": [
    "education_labels = ['LESS_THAN_HS', 'HS', 'COLLEGE_NO_DEG', 'ASSOCIATE_OCC', 'ASSOCIATE_ACA', 'BACHELORS', 'MASTERS', 'PROF', 'DOCTORATE']"
   ]
  },
  {
   "cell_type": "code",
   "execution_count": 157,
   "metadata": {},
   "outputs": [
    {
     "name": "stdout",
     "output_type": "stream",
     "text": [
      "37 - LESS_THAN_HS\n",
      "39 - HS\n",
      "40 - COLLEGE_NO_DEG\n",
      "41 - ASSOCIATE_OCC\n",
      "42 - ASSOCIATE_ACA\n",
      "43 - BACHELORS\n",
      "44 - MASTERS\n",
      "45 - PROF\n",
      "46 - DOCTORATE\n"
     ]
    }
   ],
   "source": [
    "education_unemp = {}\n",
    "for i,l in zip(education_levels.index, education_labels):\n",
    "    print(f\"{i} - {l}\")\n",
    "    education_unemp[l] = df.loc[df['educa']==i]"
   ]
  },
  {
   "cell_type": "code",
   "execution_count": 159,
   "metadata": {},
   "outputs": [],
   "source": [
    "education_unemp_df = pd.DataFrame()\n",
    "for i,l in zip(education_levels.index, education_labels):\n",
    "    education_unemp_df[l] = calc_unemployment(education_unemp[l])"
   ]
  },
  {
   "cell_type": "code",
   "execution_count": 160,
   "metadata": {},
   "outputs": [
    {
     "data": {
      "text/html": [
       "<div>\n",
       "<style scoped>\n",
       "    .dataframe tbody tr th:only-of-type {\n",
       "        vertical-align: middle;\n",
       "    }\n",
       "\n",
       "    .dataframe tbody tr th {\n",
       "        vertical-align: top;\n",
       "    }\n",
       "\n",
       "    .dataframe thead th {\n",
       "        text-align: right;\n",
       "    }\n",
       "</style>\n",
       "<table border=\"1\" class=\"dataframe\">\n",
       "  <thead>\n",
       "    <tr style=\"text-align: right;\">\n",
       "      <th></th>\n",
       "      <th>LESS_THAN_HS</th>\n",
       "      <th>HS</th>\n",
       "      <th>COLLEGE_NO_DEG</th>\n",
       "      <th>ASSOCIATE_OCC</th>\n",
       "      <th>ASSOCIATE_ACA</th>\n",
       "      <th>BACHELORS</th>\n",
       "      <th>MASTERS</th>\n",
       "      <th>PROF</th>\n",
       "      <th>DOCTORATE</th>\n",
       "    </tr>\n",
       "    <tr>\n",
       "      <th>month_num</th>\n",
       "      <th></th>\n",
       "      <th></th>\n",
       "      <th></th>\n",
       "      <th></th>\n",
       "      <th></th>\n",
       "      <th></th>\n",
       "      <th></th>\n",
       "      <th></th>\n",
       "      <th></th>\n",
       "    </tr>\n",
       "  </thead>\n",
       "  <tbody>\n",
       "    <tr>\n",
       "      <td>1</td>\n",
       "      <td>8.72474</td>\n",
       "      <td>5.50354</td>\n",
       "      <td>4.32339</td>\n",
       "      <td>2.57356</td>\n",
       "      <td>2.73815</td>\n",
       "      <td>2.41980</td>\n",
       "      <td>1.91978</td>\n",
       "      <td>1.20020</td>\n",
       "      <td>0.89768</td>\n",
       "    </tr>\n",
       "    <tr>\n",
       "      <td>2</td>\n",
       "      <td>9.68912</td>\n",
       "      <td>5.11733</td>\n",
       "      <td>4.01584</td>\n",
       "      <td>2.82239</td>\n",
       "      <td>2.93858</td>\n",
       "      <td>2.36763</td>\n",
       "      <td>1.71959</td>\n",
       "      <td>1.22257</td>\n",
       "      <td>1.32985</td>\n",
       "    </tr>\n",
       "    <tr>\n",
       "      <td>3</td>\n",
       "      <td>11.89713</td>\n",
       "      <td>5.84018</td>\n",
       "      <td>5.05841</td>\n",
       "      <td>3.91734</td>\n",
       "      <td>3.60366</td>\n",
       "      <td>2.60806</td>\n",
       "      <td>2.48463</td>\n",
       "      <td>1.92859</td>\n",
       "      <td>1.87475</td>\n",
       "    </tr>\n",
       "    <tr>\n",
       "      <td>4</td>\n",
       "      <td>27.35837</td>\n",
       "      <td>18.61755</td>\n",
       "      <td>18.65319</td>\n",
       "      <td>13.48940</td>\n",
       "      <td>14.28535</td>\n",
       "      <td>9.97865</td>\n",
       "      <td>6.72265</td>\n",
       "      <td>7.21983</td>\n",
       "      <td>3.23899</td>\n",
       "    </tr>\n",
       "  </tbody>\n",
       "</table>\n",
       "</div>"
      ],
      "text/plain": [
       "           LESS_THAN_HS       HS  COLLEGE_NO_DEG  ASSOCIATE_OCC  \\\n",
       "month_num                                                         \n",
       "1               8.72474  5.50354         4.32339        2.57356   \n",
       "2               9.68912  5.11733         4.01584        2.82239   \n",
       "3              11.89713  5.84018         5.05841        3.91734   \n",
       "4              27.35837 18.61755        18.65319       13.48940   \n",
       "\n",
       "           ASSOCIATE_ACA  BACHELORS  MASTERS    PROF  DOCTORATE  \n",
       "month_num                                                        \n",
       "1                2.73815    2.41980  1.91978 1.20020    0.89768  \n",
       "2                2.93858    2.36763  1.71959 1.22257    1.32985  \n",
       "3                3.60366    2.60806  2.48463 1.92859    1.87475  \n",
       "4               14.28535    9.97865  6.72265 7.21983    3.23899  "
      ]
     },
     "execution_count": 160,
     "metadata": {},
     "output_type": "execute_result"
    }
   ],
   "source": [
    "education_unemp_df"
   ]
  },
  {
   "cell_type": "code",
   "execution_count": 165,
   "metadata": {},
   "outputs": [
    {
     "data": {
      "text/plain": [
       "<matplotlib.axes._subplots.AxesSubplot at 0x12b1ee690>"
      ]
     },
     "execution_count": 165,
     "metadata": {},
     "output_type": "execute_result"
    },
    {
     "data": {
      "image/png": "[encoded data removed]",
      "text/plain": [
       "<Figure size 432x288 with 1 Axes>"
      ]
     },
     "metadata": {
      "needs_background": "light"
     },
     "output_type": "display_data"
    }
   ],
   "source": [
    "education_unemp_df.plot(xticks = education_unemp_df.index)"
   ]
  },
  {
   "cell_type": "code",
   "execution_count": null,
   "metadata": {},
   "outputs": [],
   "source": []
  }
 ],
 "metadata": {
  "kernelspec": {
   "display_name": "Python 3",
   "language": "python",
   "name": "python3"
  },
  "language_info": {
   "codemirror_mode": {
    "name": "ipython",
    "version": 3
   },
   "file_extension": ".py",
   "mimetype": "text/x-python",
   "name": "python",
   "nbconvert_exporter": "python",
   "pygments_lexer": "ipython3",
   "version": "3.7.4"
  },
  "varInspector": {
   "cols": {
    "lenName": 16,
    "lenType": 16,
    "lenVar": 40
   },
   "kernels_config": {
    "python": {
     "delete_cmd_postfix": "",
     "delete_cmd_prefix": "del ",
     "library": "var_list.py",
     "varRefreshCmd": "print(var_dic_list())"
    },
    "r": {
     "delete_cmd_postfix": ") ",
     "delete_cmd_prefix": "rm(",
     "library": "var_list.r",
     "varRefreshCmd": "cat(var_dic_list()) "
    }
   },
   "types_to_exclude": [
    "module",
    "function",
    "builtin_function_or_method",
    "instance",
    "_Feature"
   ],
   "window_display": false
  }
 },
 "nbformat": 4,
 "nbformat_minor": 2
}
