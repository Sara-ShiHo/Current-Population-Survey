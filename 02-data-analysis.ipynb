{
 "cells": [
  {
   "cell_type": "code",
   "execution_count": 1,
   "metadata": {},
   "outputs": [],
   "source": [
    "import os, re, struct\n",
    "import pandas as pd\n",
    "import numpy as np\n",
    "from io import BytesIO\n",
    "from zipfile import ZipFile\n",
    "from urllib.request import urlopen\n",
    "from collections import Counter"
   ]
  },
  {
   "cell_type": "code",
   "execution_count": 2,
   "metadata": {},
   "outputs": [],
   "source": [
    "import pymongo\n",
    "from pymongo import MongoClient\n",
    "client = MongoClient()\n",
    "client.CPS.list_collection_names()\n",
    "CPS = client.CPS"
   ]
  },
  {
   "cell_type": "markdown",
   "metadata": {},
   "source": [
    "## 01. Retrieve data from mongodb"
   ]
  },
  {
   "cell_type": "code",
   "execution_count": 3,
   "metadata": {},
   "outputs": [
    {
     "data": {
      "text/plain": [
       "['PEEDUCA', 'PREMPNOT', 'PESEX', 'PTDTRACE']"
      ]
     },
     "execution_count": 3,
     "metadata": {},
     "output_type": "execute_result"
    }
   ],
   "source": [
    "CPS.list_collection_names()"
   ]
  },
  {
   "cell_type": "code",
   "execution_count": 71,
   "metadata": {},
   "outputs": [],
   "source": [
    "PEEDUCA = CPS.PEEDUCA.find_one()\n",
    "PREMPNOT = CPS.PREMPNOT.find_one()\n",
    "PESEX = CPS.PESEX.find_one()\n",
    "PTDTRACE = CPS.PTDTRACE.find_one()\n",
    "PWSSWGT = CPS.PWSSWGT.find_one()\n",
    "PWCMPWGT = CPS.PWCMPWGT.find_one()"
   ]
  },
  {
   "cell_type": "code",
   "execution_count": 90,
   "metadata": {},
   "outputs": [],
   "source": [
    "months = ['jan', 'feb', 'mar', 'apr']\n",
    "df = pd.DataFrame(columns = ['month', 'weight_cf', 'weight', 'emp', 'sex', 'race', 'educa'])\n",
    "for mon in months:\n",
    "    temp_df = pd.DataFrame({\n",
    "        'month': mon,\n",
    "        'weight_cf': PWCMPWGT[mon],\n",
    "        'weight': PWSSWGT[mon],\n",
    "        'emp': PREMPNOT[mon],\n",
    "        'sex': PESEX[mon],\n",
    "        'race': PTDTRACE[mon],\n",
    "        'educa': PEEDUCA[mon]\n",
    "    })\n",
    "    df = df.append(temp_df)"
   ]
  },
  {
   "cell_type": "markdown",
   "metadata": {},
   "source": [
    "## 02. Calculate non-seasonally adjusted unemployment rate"
   ]
  },
  {
   "cell_type": "code",
   "execution_count": 109,
   "metadata": {},
   "outputs": [],
   "source": [
    "df[\"weight\"] = pd.to_numeric(df[\"weight\"])\n",
    "df[\"weight_cf\"] = pd.to_numeric(df[\"weight_cf\"])\n",
    "df = df.loc[df['weight_cf']>0]"
   ]
  },
  {
   "cell_type": "markdown",
   "metadata": {},
   "source": [
    "Here is how the weights should work: for example, if a person has a weight of 1,500 then the household is theoretically representing 1,500 other persons. \n",
    "\n",
    "In practice, the weights are scaled up by 10000.\n",
    "\n",
    "I scale it down and convert units to thousands."
   ]
  },
  {
   "cell_type": "code",
   "execution_count": 111,
   "metadata": {
    "scrolled": true
   },
   "outputs": [
    {
     "data": {
      "text/html": [
       "<div>\n",
       "<style scoped>\n",
       "    .dataframe tbody tr th:only-of-type {\n",
       "        vertical-align: middle;\n",
       "    }\n",
       "\n",
       "    .dataframe tbody tr th {\n",
       "        vertical-align: top;\n",
       "    }\n",
       "\n",
       "    .dataframe thead th {\n",
       "        text-align: right;\n",
       "    }\n",
       "</style>\n",
       "<table border=\"1\" class=\"dataframe\">\n",
       "  <thead>\n",
       "    <tr style=\"text-align: right;\">\n",
       "      <th></th>\n",
       "      <th>month</th>\n",
       "      <th>weight_cf</th>\n",
       "      <th>weight</th>\n",
       "      <th>emp</th>\n",
       "      <th>sex</th>\n",
       "      <th>race</th>\n",
       "      <th>educa</th>\n",
       "    </tr>\n",
       "  </thead>\n",
       "  <tbody>\n",
       "    <tr>\n",
       "      <td>0</td>\n",
       "      <td>jan</td>\n",
       "      <td>17347552</td>\n",
       "      <td>17713809</td>\n",
       "      <td>4</td>\n",
       "      <td>1</td>\n",
       "      <td>2</td>\n",
       "      <td>38</td>\n",
       "    </tr>\n",
       "    <tr>\n",
       "      <td>1</td>\n",
       "      <td>jan</td>\n",
       "      <td>16756084</td>\n",
       "      <td>16864805</td>\n",
       "      <td>4</td>\n",
       "      <td>2</td>\n",
       "      <td>2</td>\n",
       "      <td>40</td>\n",
       "    </tr>\n",
       "    <tr>\n",
       "      <td>2</td>\n",
       "      <td>jan</td>\n",
       "      <td>21463402</td>\n",
       "      <td>20481802</td>\n",
       "      <td>4</td>\n",
       "      <td>1</td>\n",
       "      <td>1</td>\n",
       "      <td>40</td>\n",
       "    </tr>\n",
       "    <tr>\n",
       "      <td>3</td>\n",
       "      <td>jan</td>\n",
       "      <td>30966041</td>\n",
       "      <td>30137016</td>\n",
       "      <td>1</td>\n",
       "      <td>1</td>\n",
       "      <td>1</td>\n",
       "      <td>39</td>\n",
       "    </tr>\n",
       "    <tr>\n",
       "      <td>4</td>\n",
       "      <td>jan</td>\n",
       "      <td>17590812</td>\n",
       "      <td>17309391</td>\n",
       "      <td>1</td>\n",
       "      <td>2</td>\n",
       "      <td>1</td>\n",
       "      <td>43</td>\n",
       "    </tr>\n",
       "    <tr>\n",
       "      <td>5</td>\n",
       "      <td>jan</td>\n",
       "      <td>22252360</td>\n",
       "      <td>21931976</td>\n",
       "      <td>1</td>\n",
       "      <td>1</td>\n",
       "      <td>2</td>\n",
       "      <td>39</td>\n",
       "    </tr>\n",
       "    <tr>\n",
       "      <td>6</td>\n",
       "      <td>jan</td>\n",
       "      <td>20126642</td>\n",
       "      <td>19718618</td>\n",
       "      <td>1</td>\n",
       "      <td>2</td>\n",
       "      <td>2</td>\n",
       "      <td>39</td>\n",
       "    </tr>\n",
       "    <tr>\n",
       "      <td>8</td>\n",
       "      <td>jan</td>\n",
       "      <td>22147484</td>\n",
       "      <td>22450914</td>\n",
       "      <td>4</td>\n",
       "      <td>2</td>\n",
       "      <td>1</td>\n",
       "      <td>39</td>\n",
       "    </tr>\n",
       "    <tr>\n",
       "      <td>9</td>\n",
       "      <td>jan</td>\n",
       "      <td>28851877</td>\n",
       "      <td>33004731</td>\n",
       "      <td>4</td>\n",
       "      <td>2</td>\n",
       "      <td>2</td>\n",
       "      <td>39</td>\n",
       "    </tr>\n",
       "    <tr>\n",
       "      <td>10</td>\n",
       "      <td>jan</td>\n",
       "      <td>17379723</td>\n",
       "      <td>17492490</td>\n",
       "      <td>4</td>\n",
       "      <td>2</td>\n",
       "      <td>2</td>\n",
       "      <td>39</td>\n",
       "    </tr>\n",
       "    <tr>\n",
       "      <td>12</td>\n",
       "      <td>jan</td>\n",
       "      <td>24567737</td>\n",
       "      <td>25730276</td>\n",
       "      <td>4</td>\n",
       "      <td>2</td>\n",
       "      <td>2</td>\n",
       "      <td>39</td>\n",
       "    </tr>\n",
       "    <tr>\n",
       "      <td>14</td>\n",
       "      <td>jan</td>\n",
       "      <td>21236523</td>\n",
       "      <td>22493557</td>\n",
       "      <td>4</td>\n",
       "      <td>2</td>\n",
       "      <td>2</td>\n",
       "      <td>39</td>\n",
       "    </tr>\n",
       "    <tr>\n",
       "      <td>16</td>\n",
       "      <td>jan</td>\n",
       "      <td>24876545</td>\n",
       "      <td>24209309</td>\n",
       "      <td>1</td>\n",
       "      <td>2</td>\n",
       "      <td>2</td>\n",
       "      <td>40</td>\n",
       "    </tr>\n",
       "    <tr>\n",
       "      <td>17</td>\n",
       "      <td>jan</td>\n",
       "      <td>16576638</td>\n",
       "      <td>16283905</td>\n",
       "      <td>1</td>\n",
       "      <td>2</td>\n",
       "      <td>1</td>\n",
       "      <td>41</td>\n",
       "    </tr>\n",
       "    <tr>\n",
       "      <td>18</td>\n",
       "      <td>jan</td>\n",
       "      <td>16461422</td>\n",
       "      <td>16786000</td>\n",
       "      <td>4</td>\n",
       "      <td>2</td>\n",
       "      <td>1</td>\n",
       "      <td>39</td>\n",
       "    </tr>\n",
       "  </tbody>\n",
       "</table>\n",
       "</div>"
      ],
      "text/plain": [
       "   month  weight_cf    weight emp sex race educa\n",
       "0    jan   17347552  17713809   4   1    2    38\n",
       "1    jan   16756084  16864805   4   2    2    40\n",
       "2    jan   21463402  20481802   4   1    1    40\n",
       "3    jan   30966041  30137016   1   1    1    39\n",
       "4    jan   17590812  17309391   1   2    1    43\n",
       "5    jan   22252360  21931976   1   1    2    39\n",
       "6    jan   20126642  19718618   1   2    2    39\n",
       "8    jan   22147484  22450914   4   2    1    39\n",
       "9    jan   28851877  33004731   4   2    2    39\n",
       "10   jan   17379723  17492490   4   2    2    39\n",
       "12   jan   24567737  25730276   4   2    2    39\n",
       "14   jan   21236523  22493557   4   2    2    39\n",
       "16   jan   24876545  24209309   1   2    2    40\n",
       "17   jan   16576638  16283905   1   2    1    41\n",
       "18   jan   16461422  16786000   4   2    1    39"
      ]
     },
     "execution_count": 111,
     "metadata": {},
     "output_type": "execute_result"
    }
   ],
   "source": [
    "df.head(15)"
   ]
  },
  {
   "cell_type": "markdown",
   "metadata": {},
   "source": [
    "http://www.dlt.ri.gov/lmi/laus/us/usunadj.htm\n",
    "\n",
    "These are the non-seasonally adjusted unemployment rates"
   ]
  },
  {
   "cell_type": "code",
   "execution_count": 112,
   "metadata": {},
   "outputs": [],
   "source": [
    "pd.options.display.float_format = '{:.5f}'.format"
   ]
  },
  {
   "cell_type": "code",
   "execution_count": 106,
   "metadata": {},
   "outputs": [],
   "source": [
    "emp = df.loc[df['emp']==1]\n",
    "unemp = df.loc[df['emp']==2]"
   ]
  },
  {
   "cell_type": "code",
   "execution_count": 114,
   "metadata": {
    "scrolled": true
   },
   "outputs": [
    {
     "data": {
      "text/plain": [
       "month\n",
       "apr   14.44144\n",
       "feb    3.78583\n",
       "jan    3.97775\n",
       "mar    4.53429\n",
       "Name: weight_cf, dtype: float64"
      ]
     },
     "execution_count": 114,
     "metadata": {},
     "output_type": "execute_result"
    }
   ],
   "source": [
    "tot_emp = emp['weight_cf'].groupby(emp[\"month\"]).sum()\n",
    "tot_unemp = unemp['weight_cf'].groupby(unemp[\"month\"]).sum()\n",
    "tot_unemp * 100 / (tot_emp + tot_unemp)"
   ]
  },
  {
   "cell_type": "code",
   "execution_count": 116,
   "metadata": {},
   "outputs": [
    {
     "name": "stdout",
     "output_type": "stream",
     "text": [
      "month\n",
      "apr   133325.80812\n",
      "feb   158017.40388\n",
      "jan   156993.73231\n",
      "mar   155167.19227\n",
      "Name: weight_cf, dtype: float64\n"
     ]
    }
   ],
   "source": [
    "print(tot_emp/10000000) # this matches exactly the data from DLT"
   ]
  },
  {
   "cell_type": "code",
   "execution_count": null,
   "metadata": {},
   "outputs": [],
   "source": []
  }
 ],
 "metadata": {
  "kernelspec": {
   "display_name": "Python 3",
   "language": "python",
   "name": "python3"
  },
  "language_info": {
   "codemirror_mode": {
    "name": "ipython",
    "version": 3
   },
   "file_extension": ".py",
   "mimetype": "text/x-python",
   "name": "python",
   "nbconvert_exporter": "python",
   "pygments_lexer": "ipython3",
   "version": "3.7.4"
  },
  "varInspector": {
   "cols": {
    "lenName": 16,
    "lenType": 16,
    "lenVar": 40
   },
   "kernels_config": {
    "python": {
     "delete_cmd_postfix": "",
     "delete_cmd_prefix": "del ",
     "library": "var_list.py",
     "varRefreshCmd": "print(var_dic_list())"
    },
    "r": {
     "delete_cmd_postfix": ") ",
     "delete_cmd_prefix": "rm(",
     "library": "var_list.r",
     "varRefreshCmd": "cat(var_dic_list()) "
    }
   },
   "types_to_exclude": [
    "module",
    "function",
    "builtin_function_or_method",
    "instance",
    "_Feature"
   ],
   "window_display": false
  }
 },
 "nbformat": 4,
 "nbformat_minor": 2
}
