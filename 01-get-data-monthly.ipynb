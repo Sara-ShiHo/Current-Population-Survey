{
 "cells": [
  {
   "cell_type": "code",
   "execution_count": 1,
   "metadata": {},
   "outputs": [],
   "source": [
    "import os, re, struct\n",
    "import pandas as pd\n",
    "import numpy as np\n",
    "from io import BytesIO\n",
    "from zipfile import ZipFile\n",
    "from urllib.request import urlopen\n",
    "from collections import Counter"
   ]
  },
  {
   "cell_type": "code",
   "execution_count": 2,
   "metadata": {},
   "outputs": [],
   "source": [
    "data_dict_url = 'https://www2.census.gov/programs-surveys/cps/datasets/2020/basic/2020_Basic_CPS_Public_Use_Record_Layout_plus_IO_Code_list.txt'\n",
    "\n",
    "fp = urlopen(data_dict_url)\n",
    "mybytes = fp.read()\n",
    "data_dict = mybytes.decode(\"ISO-8859-1\")\n",
    "fp.close()"
   ]
  },
  {
   "cell_type": "code",
   "execution_count": 5,
   "metadata": {},
   "outputs": [],
   "source": [
    "def parse_raw(col, raw_data):\n",
    "    p = f'({col})\\s+(\\d+)\\s+.*?\\t+.*?(\\d\\d*).*?(\\d\\d+)'\n",
    "    find_result = re.findall(p, data_dict)[0]\n",
    "    temp_start = int(find_result[2]) - 1\n",
    "    temp_end = int(find_result[3])\n",
    "    return [row.decode(\"ISO-8859-1\")[temp_start: temp_end].rstrip().strip() for row in raw_data]"
   ]
  },
  {
   "cell_type": "code",
   "execution_count": 6,
   "metadata": {},
   "outputs": [],
   "source": [
    "def get_data(col, months):\n",
    "    result_dict = {}\n",
    "    for mon in months:\n",
    "        print(mon)\n",
    "        resp = urlopen(f'https://www2.census.gov/programs-surveys/cps/datasets/2020/basic/{mon}20pub.zip')\n",
    "        zipfile = ZipFile(BytesIO(resp.read()))\n",
    "        info = zipfile.infolist()\n",
    "        raw_data = zipfile.open(info[0].filename).readlines()\n",
    "\n",
    "        HRMONTH[mon] = get_position('HRMONTH', raw_data)"
   ]
  },
  {
   "cell_type": "code",
   "execution_count": null,
   "metadata": {},
   "outputs": [],
   "source": [
    "PREMPNOT = {}\n",
    "PESEX = {}\n",
    "PEEDUCA = {}\n",
    "PTDTRACE = {}\n",
    "HRMONTH = {}\n",
    "PWSSWGT\n",
    "\n",
    "for mon in ['jan', 'feb', 'mar', 'apr']:\n",
    "    print(mon)\n",
    "    resp = urlopen(f'https://www2.census.gov/programs-surveys/cps/datasets/2020/basic/{mon}20pub.zip')\n",
    "    zipfile = ZipFile(BytesIO(resp.read()))\n",
    "    info = zipfile.infolist()\n",
    "    info[0].filename\n",
    "    raw_data = zipfile.open(info[0].filename).readlines()\n",
    "\n",
    "    HRMONTH[mon] = get_data('HRMONTH', raw_data)\n",
    "    PREMPNOT[mon] = get_data('PREMPNOT', raw_data)\n",
    "    PESEX[mon] = get_data('PESEX', raw_data)\n",
    "    PEEDUCA[mon] = get_data('PEEDUCA', raw_data)\n",
    "    PTDTRACE[mon] = get_data('PTDTRACE', raw_data)b"
   ]
  },
  {
   "cell_type": "code",
   "execution_count": null,
   "metadata": {},
   "outputs": [],
   "source": [
    "def convert_int(d):\n",
    "    for key, value in d.items():\n",
    "        d[key] = [int(record) for record in value]b"
   ]
  },
  {
   "cell_type": "code",
   "execution_count": null,
   "metadata": {},
   "outputs": [],
   "source": [
    "import pymongo\n",
    "from pymongo import MongoClient\n",
    "client = MongoClient()\n",
    "CPS = client.CPS\n",
    "CPS"
   ]
  },
  {
   "cell_type": "code",
   "execution_count": null,
   "metadata": {},
   "outputs": [],
   "source": [
    "CPS.PREMPNOT.insert_one(PREMPNOT)\n",
    "CPS.PESEX.insert_one(PESEX)\n",
    "CPS.PEEDUCA.insert_one(PEEDUCA)\n",
    "CPS.PTDTRACE.insert_one(PTDTRACE)"
   ]
  }
 ],
 "metadata": {
  "kernelspec": {
   "display_name": "Python 3",
   "language": "python",
   "name": "python3"
  },
  "language_info": {
   "codemirror_mode": {
    "name": "ipython",
    "version": 3
   },
   "file_extension": ".py",
   "mimetype": "text/x-python",
   "name": "python",
   "nbconvert_exporter": "python",
   "pygments_lexer": "ipython3",
   "version": "3.7.4"
  },
  "varInspector": {
   "cols": {
    "lenName": 16,
    "lenType": 16,
    "lenVar": 40
   },
   "kernels_config": {
    "python": {
     "delete_cmd_postfix": "",
     "delete_cmd_prefix": "del ",
     "library": "var_list.py",
     "varRefreshCmd": "print(var_dic_list())"
    },
    "r": {
     "delete_cmd_postfix": ") ",
     "delete_cmd_prefix": "rm(",
     "library": "var_list.r",
     "varRefreshCmd": "cat(var_dic_list()) "
    }
   },
   "types_to_exclude": [
    "module",
    "function",
    "builtin_function_or_method",
    "instance",
    "_Feature"
   ],
   "window_display": false
  }
 },
 "nbformat": 4,
 "nbformat_minor": 2
}
