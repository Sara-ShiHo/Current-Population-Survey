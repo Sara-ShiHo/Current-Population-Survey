{
 "cells": [
  {
   "cell_type": "code",
   "execution_count": 1,
   "metadata": {},
   "outputs": [],
   "source": [
    "import os, re, struct\n",
    "import pandas as pd\n",
    "import numpy as np\n",
    "from io import BytesIO\n",
    "from zipfile import ZipFile\n",
    "from urllib.request import urlopen\n",
    "from collections import Counter\n",
    "import time"
   ]
  },
  {
   "cell_type": "markdown",
   "metadata": {},
   "source": [
    "## 01. Download data dictionary to extract variable positions"
   ]
  },
  {
   "cell_type": "code",
   "execution_count": 2,
   "metadata": {},
   "outputs": [],
   "source": [
    "data_dict_url = 'https://www2.census.gov/programs-surveys/cps/datasets/2020/basic/2020_Basic_CPS_Public_Use_Record_Layout_plus_IO_Code_list.txt'\n",
    "\n",
    "fp = urlopen(data_dict_url)\n",
    "mybytes = fp.read()\n",
    "data_dict = mybytes.decode(\"ISO-8859-1\")\n",
    "fp.close()"
   ]
  },
  {
   "cell_type": "markdown",
   "metadata": {},
   "source": [
    "## 02. Download data\n",
    "\n",
    "`parse_raw()` uses the data dictionary to find the column in question\n",
    "\n",
    "`get_data()` downloads the raw data and calls `parse_raw`"
   ]
  },
  {
   "cell_type": "code",
   "execution_count": 3,
   "metadata": {},
   "outputs": [],
   "source": [
    "def parse_raw(col, raw_data):\n",
    "    p = f'({col})\\s+(\\d+)\\s+.*?\\t+.*?(\\d\\d*).*?(\\d\\d+)'\n",
    "    find_result = re.findall(p, data_dict)[0]\n",
    "    temp_start = int(find_result[2]) - 1\n",
    "    temp_end = int(find_result[3])\n",
    "    return [row.decode(\"ISO-8859-1\")[temp_start: temp_end].rstrip().strip() for row in raw_data]"
   ]
  },
  {
   "cell_type": "code",
   "execution_count": 21,
   "metadata": {},
   "outputs": [],
   "source": [
    "def get_data(month, col_list, t = 20):\n",
    "    result_dict = {}\n",
    "    print(f\"pause for {t} seconds\")\n",
    "    time.sleep(t)\n",
    "    print(f\"done pausing\")\n",
    "    print(f\"loading data for {month}\")\n",
    "    \n",
    "    resp = urlopen(f'https://www2.census.gov/programs-surveys/cps/datasets/2020/basic/{month}20pub.zip')\n",
    "    zipfile = ZipFile(BytesIO(resp.read()))\n",
    "    info = zipfile.infolist()\n",
    "    raw_data = zipfile.open(info[0].filename).readlines()\n",
    "    for col in col_list:\n",
    "        try:\n",
    "            result_dict[col] = parse_raw(col, raw_data)\n",
    "        except:\n",
    "            print(f\"column for {month}, {col} did not work\")\n",
    "            time.sleep(t)\n",
    "    return result_dict"
   ]
  },
  {
   "cell_type": "code",
   "execution_count": 30,
   "metadata": {},
   "outputs": [],
   "source": [
    "months = ['jan', 'feb', 'mar', 'apr', 'may']"
   ]
  },
  {
   "cell_type": "code",
   "execution_count": 24,
   "metadata": {},
   "outputs": [
    {
     "name": "stdout",
     "output_type": "stream",
     "text": [
      "pause for 20 seconds\n",
      "done pausing\n",
      "loading data for jan\n",
      "pause for 20 seconds\n",
      "done pausing\n",
      "loading data for feb\n",
      "pause for 20 seconds\n",
      "done pausing\n",
      "loading data for mar\n",
      "pause for 20 seconds\n",
      "done pausing\n",
      "loading data for apr\n",
      "pause for 20 seconds\n",
      "done pausing\n",
      "loading data for may\n",
      "--- 127.55020904541016 seconds ---\n"
     ]
    }
   ],
   "source": [
    "col_list = ['PWCMPWGT','PWSSWGT','PREMPNOT','PESEX','PEEDUCA','PTDTRACE']\n",
    "results_list = []\n",
    "start_time = time.time()\n",
    "for month in months:\n",
    "    results_list.append(get_data(month, col_list))\n",
    "print(\"--- %s seconds ---\" % (time.time() - start_time))"
   ]
  },
  {
   "cell_type": "code",
   "execution_count": 40,
   "metadata": {},
   "outputs": [
    {
     "data": {
      "text/html": [
       "<div>\n",
       "<style scoped>\n",
       "    .dataframe tbody tr th:only-of-type {\n",
       "        vertical-align: middle;\n",
       "    }\n",
       "\n",
       "    .dataframe tbody tr th {\n",
       "        vertical-align: top;\n",
       "    }\n",
       "\n",
       "    .dataframe thead th {\n",
       "        text-align: right;\n",
       "    }\n",
       "</style>\n",
       "<table border=\"1\" class=\"dataframe\">\n",
       "  <thead>\n",
       "    <tr style=\"text-align: right;\">\n",
       "      <th></th>\n",
       "      <th>PWCMPWGT</th>\n",
       "      <th>PWSSWGT</th>\n",
       "      <th>PREMPNOT</th>\n",
       "      <th>PESEX</th>\n",
       "      <th>PEEDUCA</th>\n",
       "      <th>PTDTRACE</th>\n",
       "      <th>month</th>\n",
       "    </tr>\n",
       "  </thead>\n",
       "  <tbody>\n",
       "    <tr>\n",
       "      <th>0</th>\n",
       "      <td>17347552</td>\n",
       "      <td>17713809</td>\n",
       "      <td>4</td>\n",
       "      <td>1</td>\n",
       "      <td>38</td>\n",
       "      <td>2</td>\n",
       "      <td>jan</td>\n",
       "    </tr>\n",
       "    <tr>\n",
       "      <th>1</th>\n",
       "      <td>16756084</td>\n",
       "      <td>16864805</td>\n",
       "      <td>4</td>\n",
       "      <td>2</td>\n",
       "      <td>40</td>\n",
       "      <td>2</td>\n",
       "      <td>jan</td>\n",
       "    </tr>\n",
       "    <tr>\n",
       "      <th>2</th>\n",
       "      <td>21463402</td>\n",
       "      <td>20481802</td>\n",
       "      <td>4</td>\n",
       "      <td>1</td>\n",
       "      <td>40</td>\n",
       "      <td>1</td>\n",
       "      <td>jan</td>\n",
       "    </tr>\n",
       "    <tr>\n",
       "      <th>3</th>\n",
       "      <td>30966041</td>\n",
       "      <td>30137016</td>\n",
       "      <td>1</td>\n",
       "      <td>1</td>\n",
       "      <td>39</td>\n",
       "      <td>1</td>\n",
       "      <td>jan</td>\n",
       "    </tr>\n",
       "    <tr>\n",
       "      <th>4</th>\n",
       "      <td>17590812</td>\n",
       "      <td>17309391</td>\n",
       "      <td>1</td>\n",
       "      <td>2</td>\n",
       "      <td>43</td>\n",
       "      <td>1</td>\n",
       "      <td>jan</td>\n",
       "    </tr>\n",
       "  </tbody>\n",
       "</table>\n",
       "</div>"
      ],
      "text/plain": [
       "   PWCMPWGT   PWSSWGT PREMPNOT PESEX PEEDUCA PTDTRACE month\n",
       "0  17347552  17713809        4     1      38        2   jan\n",
       "1  16756084  16864805        4     2      40        2   jan\n",
       "2  21463402  20481802        4     1      40        1   jan\n",
       "3  30966041  30137016        1     1      39        1   jan\n",
       "4  17590812  17309391        1     2      43        1   jan"
      ]
     },
     "execution_count": 40,
     "metadata": {},
     "output_type": "execute_result"
    }
   ],
   "source": [
    "results_df = pd.DataFrame(columns = col_list)\n",
    "for data_month_pair in zip(results_list, months):\n",
    "    temp_df = pd.DataFrame(data_month_pair[0])\n",
    "    temp_df[\"month\"] = data_month_pair[1]\n",
    "    results_df = results_df.append(temp_df)\n",
    "results_df.head()"
   ]
  },
  {
   "cell_type": "code",
   "execution_count": 41,
   "metadata": {},
   "outputs": [
    {
     "data": {
      "text/plain": [
       "PWCMPWGT     int64\n",
       "PWSSWGT      int64\n",
       "PREMPNOT     int64\n",
       "PESEX        int64\n",
       "PEEDUCA      int64\n",
       "PTDTRACE     int64\n",
       "month       object\n",
       "dtype: object"
      ]
     },
     "execution_count": 41,
     "metadata": {},
     "output_type": "execute_result"
    }
   ],
   "source": [
    "for col in col_list:\n",
    "    results_df[col] = pd.to_numeric(results_df[col])\n",
    "results_df.dtypes"
   ]
  },
  {
   "cell_type": "markdown",
   "metadata": {},
   "source": [
    "## 03. Store data in postgres"
   ]
  },
  {
   "cell_type": "markdown",
   "metadata": {},
   "source": [
    "https://naysan.ca/2020/05/09/pandas-to-postgresql-using-psycopg2-bulk-insert-performance-benchmark/"
   ]
  },
  {
   "cell_type": "code",
   "execution_count": 2,
   "metadata": {
    "scrolled": true
   },
   "outputs": [],
   "source": [
    "import psycopg2\n",
    "from config import *"
   ]
  },
  {
   "cell_type": "code",
   "execution_count": 51,
   "metadata": {},
   "outputs": [],
   "source": [
    "from sqlalchemy import create_engine\n",
    "connect = \"postgresql+psycopg2://%s:%s@%s:5432/%s\" % (\n",
    "    param_dic['user'],\n",
    "    param_dic['password'],\n",
    "    param_dic['host'],\n",
    "    param_dic['database']\n",
    ")\n",
    "\n",
    "def to_alchemy(table_name, df):\n",
    "    \"\"\"\n",
    "    Using a dummy table to test this call library\n",
    "    \"\"\"\n",
    "    engine = create_engine(connect)\n",
    "    df.to_sql(\n",
    "        table_name, \n",
    "        con=engine, \n",
    "        index=False, \n",
    "        if_exists='replace'\n",
    "    )\n",
    "    print(\"to_sql() done\")"
   ]
  },
  {
   "cell_type": "code",
   "execution_count": null,
   "metadata": {},
   "outputs": [],
   "source": [
    "to_alchemy('unemp_raw', results_df)"
   ]
  },
  {
   "cell_type": "code",
   "execution_count": null,
   "metadata": {},
   "outputs": [],
   "source": []
  }
 ],
 "metadata": {
  "kernelspec": {
   "display_name": "Python 3",
   "language": "python",
   "name": "python3"
  },
  "language_info": {
   "codemirror_mode": {
    "name": "ipython",
    "version": 3
   },
   "file_extension": ".py",
   "mimetype": "text/x-python",
   "name": "python",
   "nbconvert_exporter": "python",
   "pygments_lexer": "ipython3",
   "version": "3.8.3"
  },
  "varInspector": {
   "cols": {
    "lenName": 16,
    "lenType": 16,
    "lenVar": 40
   },
   "kernels_config": {
    "python": {
     "delete_cmd_postfix": "",
     "delete_cmd_prefix": "del ",
     "library": "var_list.py",
     "varRefreshCmd": "print(var_dic_list())"
    },
    "r": {
     "delete_cmd_postfix": ") ",
     "delete_cmd_prefix": "rm(",
     "library": "var_list.r",
     "varRefreshCmd": "cat(var_dic_list()) "
    }
   },
   "types_to_exclude": [
    "module",
    "function",
    "builtin_function_or_method",
    "instance",
    "_Feature"
   ],
   "window_display": false
  }
 },
 "nbformat": 4,
 "nbformat_minor": 2
}
