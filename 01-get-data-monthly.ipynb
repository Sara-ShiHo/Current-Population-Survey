{
 "cells": [
  {
   "cell_type": "code",
   "execution_count": 1,
   "metadata": {},
   "outputs": [],
   "source": [
    "import os, re, struct\n",
    "import pandas as pd\n",
    "import numpy as np\n",
    "from io import BytesIO\n",
    "from zipfile import ZipFile\n",
    "from urllib.request import urlopen\n",
    "from collections import Counter"
   ]
  },
  {
   "cell_type": "markdown",
   "metadata": {},
   "source": [
    "## 01. Download data dictionary to extract variable positions"
   ]
  },
  {
   "cell_type": "code",
   "execution_count": 2,
   "metadata": {},
   "outputs": [],
   "source": [
    "data_dict_url = 'https://www2.census.gov/programs-surveys/cps/datasets/2020/basic/2020_Basic_CPS_Public_Use_Record_Layout_plus_IO_Code_list.txt'\n",
    "\n",
    "fp = urlopen(data_dict_url)\n",
    "mybytes = fp.read()\n",
    "data_dict = mybytes.decode(\"ISO-8859-1\")\n",
    "fp.close()"
   ]
  },
  {
   "cell_type": "markdown",
   "metadata": {},
   "source": [
    "## 02. Download data\n",
    "\n",
    "`parse_raw()` uses the data dictionary to find the column in question\n",
    "\n",
    "`get_data()` downloads the raw data and calls `parse_raw`"
   ]
  },
  {
   "cell_type": "code",
   "execution_count": 11,
   "metadata": {},
   "outputs": [],
   "source": [
    "def parse_raw(col, raw_data):\n",
    "    p = f'({col})\\s+(\\d+)\\s+.*?\\t+.*?(\\d\\d*).*?(\\d\\d+)'\n",
    "    find_result = re.findall(p, data_dict)[0]\n",
    "    temp_start = int(find_result[2]) - 1\n",
    "    temp_end = int(find_result[3])\n",
    "    return [row.decode(\"ISO-8859-1\")[temp_start: temp_end].rstrip().strip() for row in raw_data]"
   ]
  },
  {
   "cell_type": "code",
   "execution_count": 27,
   "metadata": {},
   "outputs": [],
   "source": [
    "def get_data(col, months):\n",
    "    result_dict = {}\n",
    "    for mon in months:\n",
    "        print(f\"loading data for {mon}\")\n",
    "        resp = urlopen(f'https://www2.census.gov/programs-surveys/cps/datasets/2020/basic/{mon}20pub.zip')\n",
    "        zipfile = ZipFile(BytesIO(resp.read()))\n",
    "        info = zipfile.infolist()\n",
    "        raw_data = zipfile.open(info[0].filename).readlines()\n",
    "\n",
    "        result_dict[mon] = parse_raw(col, raw_data)\n",
    "    return result_dict"
   ]
  },
  {
   "cell_type": "code",
   "execution_count": 32,
   "metadata": {},
   "outputs": [
    {
     "name": "stdout",
     "output_type": "stream",
     "text": [
      "loading data for jan\n",
      "loading data for feb\n",
      "loading data for mar\n",
      "loading data for apr\n"
     ]
    }
   ],
   "source": [
    "PWCMPWGT = get_data('PWCMPWGT', months)\n",
    "PWSSWGT = get_data('PWSSWGT', months)"
   ]
  },
  {
   "cell_type": "code",
   "execution_count": null,
   "metadata": {},
   "outputs": [],
   "source": [
    "HRMONTH[mon] = get_data('HRMONTH', months)\n",
    "PREMPNOT[mon] = get_data('PREMPNOT', months)\n",
    "PESEX[mon] = get_data('PESEX', months)\n",
    "PEEDUCA[mon] = get_data('PEEDUCA', months)\n",
    "PTDTRACE[mon] = get_data('PTDTRACE', months)"
   ]
  },
  {
   "cell_type": "code",
   "execution_count": null,
   "metadata": {},
   "outputs": [],
   "source": [
    "def convert_int(d):\n",
    "    for key, value in d.items():\n",
    "        d[key] = [int(record) for record in value]"
   ]
  },
  {
   "cell_type": "markdown",
   "metadata": {},
   "source": [
    "## 03. Store data in mongodb"
   ]
  },
  {
   "cell_type": "code",
   "execution_count": 30,
   "metadata": {},
   "outputs": [
    {
     "data": {
      "text/plain": [
       "Database(MongoClient(host=['localhost:27017'], document_class=dict, tz_aware=False, connect=True), 'CPS')"
      ]
     },
     "execution_count": 30,
     "metadata": {},
     "output_type": "execute_result"
    }
   ],
   "source": [
    "import pymongo\n",
    "from pymongo import MongoClient\n",
    "client = MongoClient()\n",
    "CPS = client.CPS\n",
    "CPS"
   ]
  },
  {
   "cell_type": "code",
   "execution_count": 33,
   "metadata": {},
   "outputs": [
    {
     "data": {
      "text/plain": [
       "<pymongo.results.InsertOneResult at 0x117a92fa0>"
      ]
     },
     "execution_count": 33,
     "metadata": {},
     "output_type": "execute_result"
    }
   ],
   "source": [
    "CPS.PWSSWGT.insert_one(PWSSWGT)\n",
    "CPS.PWCMPWGT.insert_one(PWCMPWGT)"
   ]
  },
  {
   "cell_type": "code",
   "execution_count": null,
   "metadata": {},
   "outputs": [],
   "source": [
    "CPS.PREMPNOT.insert_one(PREMPNOT)\n",
    "CPS.PESEX.insert_one(PESEX)\n",
    "CPS.PEEDUCA.insert_one(PEEDUCA)\n",
    "CPS.PTDTRACE.insert_one(PTDTRACE)"
   ]
  }
 ],
 "metadata": {
  "kernelspec": {
   "display_name": "Python 3",
   "language": "python",
   "name": "python3"
  },
  "language_info": {
   "codemirror_mode": {
    "name": "ipython",
    "version": 3
   },
   "file_extension": ".py",
   "mimetype": "text/x-python",
   "name": "python",
   "nbconvert_exporter": "python",
   "pygments_lexer": "ipython3",
   "version": "3.7.4"
  },
  "varInspector": {
   "cols": {
    "lenName": 16,
    "lenType": 16,
    "lenVar": 40
   },
   "kernels_config": {
    "python": {
     "delete_cmd_postfix": "",
     "delete_cmd_prefix": "del ",
     "library": "var_list.py",
     "varRefreshCmd": "print(var_dic_list())"
    },
    "r": {
     "delete_cmd_postfix": ") ",
     "delete_cmd_prefix": "rm(",
     "library": "var_list.r",
     "varRefreshCmd": "cat(var_dic_list()) "
    }
   },
   "types_to_exclude": [
    "module",
    "function",
    "builtin_function_or_method",
    "instance",
    "_Feature"
   ],
   "window_display": false
  }
 },
 "nbformat": 4,
 "nbformat_minor": 2
}
